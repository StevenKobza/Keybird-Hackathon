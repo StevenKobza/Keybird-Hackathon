{
 "cells": [
  {
   "cell_type": "code",
   "execution_count": 3,
   "id": "291f3b14-b046-4cbd-91c0-157dbf8f5af6",
   "metadata": {
    "tags": []
   },
   "outputs": [
    {
     "name": "stderr",
     "output_type": "stream",
     "text": [
      "100%|████████████████████████████████████████████████████████████████████████████████████████████████████████████████████████████████████████████████████████████████████████| 144/144 [01:03<00:00,  2.27it/s]\n"
     ]
    },
    {
     "name": "stdout",
     "output_type": "stream",
     "text": [
      "                                                 Audio          Keyboard  \\\n",
      "0    [[0.0, 0.0], [0.0, 0.0], [0.0, 0.0], [0.0, 0.0...  350mimi Polycarb   \n",
      "1    [[0.0, 0.0], [0.0, 0.0], [0.0, 0.0], [0.0, 0.0...         Iron165R2   \n",
      "2    [[0.0, 0.0], [0.0, 0.0], [0.0, 0.0], [0.0, 0.0...            Tofu60   \n",
      "3    [[0.0, 0.0], [0.0, 0.0], [0.0, 0.0], [0.0, 0.0...            Zoom65   \n",
      "4    [[0.0, 0.0], [0.0, 0.0], [0.0, 0.0], [0.0, 0.0...        Bakeneko60   \n",
      "..                                                 ...               ...   \n",
      "139  [[0.0, 0.0], [0.0, 0.0], [0.0, 0.0], [0.0, 0.0...               NaN   \n",
      "140  [[0.0, 0.0], [0.0, 0.0], [0.0, 0.0], [0.0, 0.0...               NaN   \n",
      "141  [[0.0, 0.0], [0.0, 0.0], [0.0, 0.0], [0.0, 0.0...               NaN   \n",
      "142  [[0.0, 0.0], [0.0, 0.0], [0.0, 0.0], [0.0, 0.0...               NaN   \n",
      "143  [[0.0, 0.0], [0.0, 0.0], [0.0, 0.0], [0.0, 0.0...               NaN   \n",
      "\n",
      "               Switch  \n",
      "0         Salmon Alps  \n",
      "1    Hyperglide Brown  \n",
      "2       Box Mute Jade  \n",
      "3          JWK Linear  \n",
      "4          Green Alps  \n",
      "..                ...  \n",
      "139               NaN  \n",
      "140               NaN  \n",
      "141               NaN  \n",
      "142               NaN  \n",
      "143               NaN  \n",
      "\n",
      "[144 rows x 3 columns]\n"
     ]
    }
   ],
   "source": [
    "import os\n",
    "import numpy as np\n",
    "from tqdm import tqdm\n",
    "import pandas as pd\n",
    "import soundfile as sf\n",
    "\n",
    "path = os.getcwd()\n",
    "audios = []\n",
    "typingSounds = path + \"/datasets/Assorted Channels/\"\n",
    "total = len(os.listdir(typingSounds))\n",
    "pbar = tqdm(total = total)\n",
    "temp = 0\n",
    "for file in os.listdir(typingSounds):\n",
    "    data, sr = sf.read(typingSounds + file)\n",
    "    audios.append(data)\n",
    "    pbar.update(1)\n",
    "pbar.close()\n",
    "#dataset = pd.DataFrame.from_dict(audios)\n",
    "samDict = pd.read_csv(\"samClassify.csv\", nrows=29)\n",
    "steDict = pd.read_csv(\"stevenClassify.csv\", nrows=49)\n",
    "\n",
    "dataset = pd.DataFrame(columns = [\"Audio\", \"Keyboard\", \"Switch\"])\n",
    "dataset.Audio = audios\n",
    "dataset.Keyboard = steDict[\"Keyboard\"]\n",
    "dataset.Switch = steDict[\"Switch\"]\n",
    "print(dataset)"
   ]
  },
  {
   "cell_type": "code",
   "execution_count": null,
   "id": "8dc0626d-34f8-4ca4-9771-0cebc52a6bbc",
   "metadata": {},
   "outputs": [],
   "source": []
  }
 ],
 "metadata": {
  "kernelspec": {
   "display_name": "Python 3 (ipykernel)",
   "language": "python",
   "name": "python3"
  },
  "language_info": {
   "codemirror_mode": {
    "name": "ipython",
    "version": 3
   },
   "file_extension": ".py",
   "mimetype": "text/x-python",
   "name": "python",
   "nbconvert_exporter": "python",
   "pygments_lexer": "ipython3",
   "version": "3.9.2"
  }
 },
 "nbformat": 4,
 "nbformat_minor": 5
}
