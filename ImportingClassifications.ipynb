{
 "cells": [
  {
   "cell_type": "code",
   "execution_count": 8,
   "id": "291f3b14-b046-4cbd-91c0-157dbf8f5af6",
   "metadata": {
    "tags": []
   },
   "outputs": [
    {
     "name": "stderr",
     "output_type": "stream",
     "text": [
      "100%|████████████████████████████████████████████████████████████████████████████████████████████████████████████████████████████████████████████████████████████████████████████████████████████████████████████████████████████████████████████████████████████████████████████████████████████████████████████████████████████████████████████████████████████████████████████████████████| 406/406 [00:00<00:00, 3615.09it/s]"
     ]
    },
    {
     "name": "stdout",
     "output_type": "stream",
     "text": [
      "                                                 Audio          Keyboard  \\\n",
      "0    [-0.0062351226806640625, -0.008036017417907715...  350mimi Polycarb   \n",
      "1    [-0.0008960962295532227, -0.000338792800903320...         Iron165R2   \n",
      "2    [0.006241798400878906, 0.0062645673751831055, ...            Tofu60   \n",
      "3    [0.005131363868713379, 0.00639653205871582, 0....            Zoom65   \n",
      "4    [-0.0005965232849121094, 0.0009032487869262695...        Bakeneko60   \n",
      "..                                                 ...               ...   \n",
      "401  [0.007534027099609375, 0.009736299514770508, 0...               NaN   \n",
      "402  [-0.009238719940185547, -0.011180996894836426,...               NaN   \n",
      "403  [0.003649592399597168, 0.003929853439331055, 0...               NaN   \n",
      "404  [0.002728104591369629, 0.00822293758392334, 0....               NaN   \n",
      "405  [0.003632664680480957, 0.003496408462524414, 0...               NaN   \n",
      "\n",
      "               Switch  \n",
      "0         Salmon Alps  \n",
      "1    Hyperglide Brown  \n",
      "2       Box Mute Jade  \n",
      "3          JWK Linear  \n",
      "4          Green Alps  \n",
      "..                ...  \n",
      "401               NaN  \n",
      "402               NaN  \n",
      "403               NaN  \n",
      "404               NaN  \n",
      "405               NaN  \n",
      "\n",
      "[406 rows x 3 columns]\n"
     ]
    },
    {
     "name": "stderr",
     "output_type": "stream",
     "text": [
      "\n"
     ]
    }
   ],
   "source": [
    "import os\n",
    "import numpy as np\n",
    "from tqdm import tqdm\n",
    "import pandas as pd\n",
    "import soundfile as sf\n",
    "\n",
    "path = os.getcwd()\n",
    "audios = []\n",
    "typingSounds = path + \"/data/reprocessed_Assorted Channels/samples_from_onsets/7V but sounds like Jelly Epoch - Typing Test/\"\n",
    "total = len(os.listdir(typingSounds))\n",
    "pbar = tqdm(total = total)\n",
    "temp = 0\n",
    "for file in os.listdir(typingSounds):\n",
    "    data, sr = sf.read(typingSounds + file)\n",
    "    audios.append(data)\n",
    "    pbar.update(1)\n",
    "pbar.close()\n",
    "#dataset = pd.DataFrame.from_dict(audios)\n",
    "samDict = pd.read_csv(\"samClassify.csv\", nrows=29)\n",
    "steDict = pd.read_csv(\"stevenClassify.csv\", nrows=49)\n",
    "\n",
    "dataset = pd.DataFrame(columns = [\"Audio\", \"Keyboard\", \"Switch\"])\n",
    "dataset.Audio = audios\n",
    "dataset.Keyboard = steDict[\"Keyboard\"]\n",
    "dataset.Switch = steDict[\"Switch\"]\n",
    "print(dataset)"
   ]
  },
  {
   "cell_type": "code",
   "execution_count": null,
   "id": "8dc0626d-34f8-4ca4-9771-0cebc52a6bbc",
   "metadata": {},
   "outputs": [],
   "source": []
  }
 ],
 "metadata": {
  "kernelspec": {
   "display_name": "Python 3 (ipykernel)",
   "language": "python",
   "name": "python3"
  },
  "language_info": {
   "codemirror_mode": {
    "name": "ipython",
    "version": 3
   },
   "file_extension": ".py",
   "mimetype": "text/x-python",
   "name": "python",
   "nbconvert_exporter": "python",
   "pygments_lexer": "ipython3",
   "version": "3.9.2"
  }
 },
 "nbformat": 4,
 "nbformat_minor": 5
}
