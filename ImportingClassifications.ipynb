{
 "cells": [
  {
   "cell_type": "code",
   "execution_count": 3,
   "id": "291f3b14-b046-4cbd-91c0-157dbf8f5af6",
   "metadata": {
    "tags": []
   },
   "outputs": [
    {
     "name": "stderr",
     "output_type": "stream",
     "text": [
      "100%|████████████████████████████████████████████████████████████████████████████████████████████████████████████████████████████████████████████████████████████████████████████████████████████████████████████████████████████████████████████████████████████████████████████████████████████████████████████████████████████████████████████████████████████████████████████████████████████████████████████| 140/140 [00:36<00:00,  3.88it/s]\n"
     ]
    },
    {
     "name": "stdout",
     "output_type": "stream",
     "text": [
      "           Keyboard Is board alu            Switch Switch Type      Foam  \\\n",
      "0  350mimi Polycarb           No       Salmon Alps        Alps      None   \n",
      "1         Iron165R2          Yes  Hyperglide Brown     Tactile      None   \n",
      "2            Tofu60          Yes     Box Mute Jade      Clicky      None   \n",
      "3            Zoom65          Yes        JWK Linear      Linear  All foam   \n",
      "4        Bakeneko60          Yes        Green Alps        Alps      None   \n",
      "\n",
      "           Keycaps Switch Type.1         Plate     Channel Name Sound Sig  \\\n",
      "0           OG ABS          Alps      Polycarb         Heremeow    Clacky   \n",
      "1       Cherry ABS            MX  Carbon Fibre  Jackie's Boards    Clacky   \n",
      "2       Cherry PBT            MX  Carbon Fibre           Shelch    Clicky   \n",
      "3       Cherry ABS            MX      Polycarb       LuxAlpha10    Thocky   \n",
      "4  Vintage Russian          Alps           Alu         Heremeow    Clacky   \n",
      "\n",
      "                                         Youtube URL  \\\n",
      "0  https://www.youtube.com/watch?v=y0Gm49cpI5g&li...   \n",
      "1  https://www.youtube.com/watch?v=qzfqH3gH5Mc&li...   \n",
      "2  https://www.youtube.com/watch?v=ulA_ahxGuNw&li...   \n",
      "3  https://www.youtube.com/watch?v=smE6LvXWp9o&li...   \n",
      "4  https://www.youtube.com/watch?v=MuPfF5bK-_8&li...   \n",
      "\n",
      "                                     Wav Title  \n",
      "0                        350mimi Polycarbonate  \n",
      "1  Iron 165 R2 with Cherry Hyperglide MX Brown  \n",
      "2                    Kailh BOX Mute Jade Sound  \n",
      "3                              Creamy Keyboard  \n",
      "4                   Bakeneko60 SKCL Green Alps  \n",
      "                                                 Audio          Keyboard  \\\n",
      "0    [[0.0, 0.0], [0.0, 0.0], [0.0, 0.0], [0.0, 0.0...  350mimi Polycarb   \n",
      "1    [[0.0, 0.0], [0.0, 0.0], [0.0, 0.0], [0.0, 0.0...         Iron165R2   \n",
      "2    [[0.0, 0.0], [0.0, 0.0], [0.0, 0.0], [0.0, 0.0...            Tofu60   \n",
      "3    [[0.0, 0.0], [0.0, 0.0], [0.0, 0.0], [0.0, 0.0...            Zoom65   \n",
      "4    [[0.0, 0.0], [0.0, 0.0], [0.0, 0.0], [0.0, 0.0...        Bakeneko60   \n",
      "..                                                 ...               ...   \n",
      "135  [[0.0, 0.0], [0.0, 0.0], [0.0, 0.0], [0.0, 0.0...               NaN   \n",
      "136  [[0.0, 0.0], [0.0, 0.0], [0.0, 0.0], [0.0, 0.0...               NaN   \n",
      "137  [[0.0, 0.0], [0.0, 0.0], [0.0, 0.0], [0.0, 0.0...               NaN   \n",
      "138  [[0.0, 0.0], [0.0, 0.0], [0.0, 0.0], [0.0, 0.0...               NaN   \n",
      "139  [[0.0, 0.0], [0.0, 0.0], [0.0, 0.0], [0.0, 0.0...               NaN   \n",
      "\n",
      "               Switch  \n",
      "0         Salmon Alps  \n",
      "1    Hyperglide Brown  \n",
      "2       Box Mute Jade  \n",
      "3          JWK Linear  \n",
      "4          Green Alps  \n",
      "..                ...  \n",
      "135               NaN  \n",
      "136               NaN  \n",
      "137               NaN  \n",
      "138               NaN  \n",
      "139               NaN  \n",
      "\n",
      "[140 rows x 3 columns]\n"
     ]
    }
   ],
   "source": [
    "import os\n",
    "import numpy as np\n",
    "from tqdm import tqdm\n",
    "import pandas as pd\n",
    "import soundfile as sf\n",
    "\n",
    "path = os.getcwd()\n",
    "audios = []\n",
    "typingSounds = path + \"/datasets/Assorted Channels/\"\n",
    "total = len(os.listdir(typingSounds))\n",
    "pbar = tqdm(total = total)\n",
    "temp = 0\n",
    "for file in os.listdir(typingSounds):\n",
    "    data, sr = sf.read(typingSounds + file)\n",
    "    audios.append(data)\n",
    "    pbar.update(1)\n",
    "pbar.close()\n",
    "#dataset = pd.DataFrame.from_dict(audios)\n",
    "samDict = pd.read_csv(\"samClassify.csv\", nrows=29)\n",
    "steDict = pd.read_csv(\"stevenClassify.csv\", nrows=49)\n",
    "#steDict.head()\n",
    "print(steDict.head())\n",
    "dataset = pd.DataFrame(columns = [\"Audio\", \"Keyboard\", \"Switch\"])\n",
    "dataset.Audio = audios\n",
    "dataset.Keyboard = steDict[\"Keyboard\"]\n",
    "dataset.Switch = steDict[\"Switch\"]\n",
    "print(dataset)"
   ]
  },
  {
   "cell_type": "code",
   "execution_count": null,
   "id": "8dc0626d-34f8-4ca4-9771-0cebc52a6bbc",
   "metadata": {},
   "outputs": [],
   "source": []
  }
 ],
 "metadata": {
  "kernelspec": {
   "display_name": "Python 3 (ipykernel)",
   "language": "python",
   "name": "python3"
  },
  "language_info": {
   "codemirror_mode": {
    "name": "ipython",
    "version": 3
   },
   "file_extension": ".py",
   "mimetype": "text/x-python",
   "name": "python",
   "nbconvert_exporter": "python",
   "pygments_lexer": "ipython3",
   "version": "3.9.2"
  }
 },
 "nbformat": 4,
 "nbformat_minor": 5
}
