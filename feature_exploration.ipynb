{
 "cells": [
  {
   "cell_type": "code",
   "execution_count": null,
   "metadata": {},
   "outputs": [],
   "source": [
    "# imports\n",
    "import os\n",
    "import numpy as np\n",
    "import matplotlib.pyplot as plt\n",
    "import librosa"
   ]
  },
  {
   "cell_type": "code",
   "execution_count": null,
   "metadata": {},
   "outputs": [],
   "source": [
    "FRAME_LENGTH = 1024 # samples\n",
    "HOP_LENGTH = 512 #512\n",
    "# AUDIO_DB = \"filled types\"\n",
    "# kb_rec_dir = 'datasets\\\\{}'.format(AUDIO_DB)\n",
    "\n",
    "AUDIO_DB = \"filled types\"\n",
    "audio_ft_npy_dataset = 'data\\\\reprocessed_{}\\\\recording_features'.format(AUDIO_DB)\n"
   ]
  },
  {
   "cell_type": "code",
   "execution_count": null,
   "metadata": {},
   "outputs": [],
   "source": [
    "def get_ft_path(ds_name, folder_name, ft_name):\n",
    "    return ds_name + \"\\\\\" + folder_name + \"\\\\\" + ft_name + '.npy'"
   ]
  },
  {
   "cell_type": "code",
   "execution_count": null,
   "metadata": {},
   "outputs": [],
   "source": [
    "def get_plot_persist_path(persistence_path, recording_name):\n",
    "    # return \"data\\\\plots\\\\\" + audio_db + \"\\\\\" +  recording_name + \".png\"\n",
    "    return '{}\\\\{}.png'.format(persistence_path, recording_name)\n"
   ]
  },
  {
   "cell_type": "code",
   "execution_count": null,
   "metadata": {},
   "outputs": [],
   "source": [
    "for folder in os.listdir(audio_ft_npy_dataset):\n",
    "    print(folder)\n",
    "\n",
    "    # build plot\n",
    "    fig, ax = plt.subplots(nrows=6, sharex=True, figsize=(5,7))\n",
    "    root_mean_square = np.load(get_ft_path(audio_ft_npy_dataset, folder, \"root_mean_square\"))[0]\n",
    "    spectral_bandwidth = np.load(get_ft_path(audio_ft_npy_dataset, folder, \"spectral_bandwidth\"))[0]\n",
    "    spectral_centroid = np.load(get_ft_path(audio_ft_npy_dataset, folder, \"spectral_centroid\"))[0]\n",
    "    spectral_flatness = np.load(get_ft_path(audio_ft_npy_dataset, folder, \"spectral_flatness\"))[0]\n",
    "    spectral_rolloff = np.load(get_ft_path(audio_ft_npy_dataset, folder, \"spectral_rolloff\"))[0]\n",
    "    zero_crossing_rate = np.load(get_ft_path(audio_ft_npy_dataset, folder, \"zero_crossing_rate\"))[0]\n",
    "\n",
    "\n",
    "\n",
    "    times = librosa.times_like(root_mean_square) # unsure if they are the same all across the board\n",
    "    ax[0].plot(times, librosa.util.normalize(root_mean_square), label='root_mean_square')\n",
    "    ax[0].title.set_text(\"root_mean_square\")\n",
    "\n",
    "    ax[1].plot(times, librosa.util.normalize(spectral_bandwidth), label='spectral_bandwidth')\n",
    "    ax[1].title.set_text(\"spectral_bandwidth\")\n",
    "\n",
    "    ax[2].plot(times, librosa.util.normalize(spectral_centroid), label='spectral_centroid')\n",
    "    ax[2].title.set_text(\"spectral_centroid\")\n",
    "\n",
    "    ax[3].plot(times, librosa.util.normalize(spectral_flatness), label='spectral_flatness')\n",
    "    ax[3].title.set_text(\"spectral_flatness\")\n",
    "\n",
    "    ax[4].plot(times, librosa.util.normalize(spectral_rolloff), label='spectral_rolloff')\n",
    "    ax[4].title.set_text(\"spectral_rolloff\")\n",
    "\n",
    "    ax[5].plot(times, librosa.util.normalize(zero_crossing_rate), label='zero_crossing_rate')\n",
    "    ax[5].title.set_text(\"zero_crossing_rate\")\n",
    "\n",
    "    # plt.show()\n",
    "    fig.tight_layout()\n",
    "\n",
    "    persistence_path = 'data\\\\\\{}\\\\plots\\\\'.format(AUDIO_DB) #, stem_type)\n",
    "    os.makedirs(persistence_path, mode=0o777, exist_ok=True)\n",
    "\n",
    "    print(persistence_path)\n",
    "\n",
    "\n",
    "    plt.savefig(get_plot_persist_path(persistence_path, folder), dpi=1200)\n",
    "    # plt.savefig(\"data\\\\recording_features\\plots\\\\\" + folder + \".png\", format='eps')\n",
    "\n",
    "\n",
    "    # for filename in os.listdir(audio_ft_npy_dataset + \"\\\\\" + folder):\n",
    "        # print(filename)\n",
    "\n",
    "\n"
   ]
  }
 ],
 "metadata": {
  "kernelspec": {
   "display_name": "Python 3.8.4 64-bit",
   "language": "python",
   "name": "python3"
  },
  "language_info": {
   "codemirror_mode": {
    "name": "ipython",
    "version": 3
   },
   "file_extension": ".py",
   "mimetype": "text/x-python",
   "name": "python",
   "nbconvert_exporter": "python",
   "pygments_lexer": "ipython3",
   "version": "3.8.4"
  },
  "orig_nbformat": 4,
  "vscode": {
   "interpreter": {
    "hash": "03e0c06d8e07dd03ce4c45592e158919e4e787c6d78fd647afa578111230fafe"
   }
  }
 },
 "nbformat": 4,
 "nbformat_minor": 2
}
