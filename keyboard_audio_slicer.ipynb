{
 "cells": [
  {
   "cell_type": "code",
   "execution_count": 3,
   "metadata": {},
   "outputs": [],
   "source": [
    "import os\n",
    "import soundfile as sf\n",
    "import librosa\n",
    "import numpy as np\n",
    "import ntpath\n",
    "import matplotlib.pyplot as plt\n",
    "# from librosa import display\n",
    "import librosa.display\n",
    "\n",
    "import sys"
   ]
  },
  {
   "cell_type": "code",
   "execution_count": 4,
   "metadata": {},
   "outputs": [],
   "source": [
    "\n",
    "### UTIL FN\n",
    "def path_leaf(path):\n",
    "\thead, tail = ntpath.split(path)\n",
    "\treturn tail or ntpath.basename(head)\n",
    "\n",
    "### \n",
    "\n",
    "def get_onsets(y, sr): # need rewrite\n",
    "\tonset_env = librosa.onset.onset_strength(y, sr=sr,\n",
    "\t\taggregate=np.median)\n",
    "\n",
    "\treturn onset_env\n",
    "\n",
    "# useless fn, remove\n",
    "def get_beats(y, sr, onset_env):\n",
    "\ttempo, beats = librosa.beat.beat_track(onset_envelope=onset_env,\n",
    "\t\tsr=sr)\n",
    "\n",
    "\treturn beats\n",
    "\n",
    "def get_signal_window_by_onsets(current_onset, next_onset):\n",
    "\tpass\n"
   ]
  },
  {
   "cell_type": "code",
   "execution_count": 5,
   "metadata": {},
   "outputs": [],
   "source": [
    "\n",
    "def get_sample_sounds_from_onsets(signal, sr, onset_env, audio_db, rec_name, \\\n",
    "\t\tmin_vel_treshold=0.25, sample_duration_frames=4096):\n",
    "\t# check if the folder exists\n",
    "\tframe_size = len(signal) / len(onset_env)\n",
    "\n",
    "\tpersistence_path = 'data\\\\reprocessed_{}\\\\samples_from_onsets\\\\{}'.format(audio_db, rec_name) #, stem_type)\n",
    "\tos.makedirs(persistence_path, mode=0o777, exist_ok=True)\n",
    "\n",
    "\taudio_samples = []\n",
    "\t# for i in range(len(onset_env):\n",
    "\tskip_frames = 0\n",
    "\tfor i in range(len(onset_env)):\n",
    "\t\tif skip_frames != 0:\n",
    "\t\t\tskip_frames = skip_frames - 1\n",
    "\t\t\t# print(skip_frames)\n",
    "\t\t\tcontinue\n",
    "\n",
    "\t\tif onset_env[i] > min_vel_treshold:\n",
    "\t\t\tsample_begin = int(i * frame_size)\n",
    "\t\t\taudio_samples.append((str(sample_begin), signal[sample_begin:sample_begin+sample_duration_frames]))\n",
    "\t\t\tskip_frames = int(sample_duration_frames / frame_size)\n",
    "\n",
    "\t# persist\n",
    "\tfor onset_i, sig_val in audio_samples:\n",
    "\t\tpersist_file_path = '{}\\\\{}.wav'.format(persistence_path, onset_i)\n",
    "\t\tif os.path.isfile(persist_file_path):\n",
    "\t\t\tprint('file already exists, skipping . . .')\n",
    "\t\t\tcontinue\n",
    "\t\tsf.write(persist_file_path, sig_val, sr, 'PCM_24')\n",
    "\n",
    "\tprint(rec_name + \" - - - done\")\n",
    "\n",
    "\treturn audio_samples\n"
   ]
  },
  {
   "cell_type": "code",
   "execution_count": 6,
   "metadata": {},
   "outputs": [],
   "source": [
    "\n",
    "def visualize_this_stuff(signal, sr, onset_env, beats):\n",
    "\thop_length = 512\n",
    "\tfig, ax = plt.subplots(nrows=2, sharex=True)\n",
    "\t# M = librosa.feature.melspectrogram(y=signal, sr=sr, hop_length=hop_length)\n",
    "\t# librosa.display.specshow(librosa.power_to_db(M, ref=np.max),\n",
    "\t# \t\t\t\t\t\ty_axis='mel', x_axis='time', hop_length=hop_length,\n",
    "\t# \t\t\t\t\t\tax=ax[0])\n",
    "\t# # ax[0].label_outer()\n",
    "\t# ax[0].set(title='Mel spectrogram')\n",
    "\t\n",
    "\tlibrosa.display.waveplot(y, sr=sr, ax=ax[0])\n",
    "\tax[0].label_outer()\n",
    "\tax[0].set(title='Audio Signal')\n",
    "\n",
    "\n",
    "\ttimes = librosa.times_like(onset_env, sr=sr, hop_length=hop_length)\n",
    "\tax[1].plot(times, librosa.util.normalize(onset_env),\n",
    "\t\t\tlabel='Onset strength')\n",
    "\t# ax[1].vlines(times[beats], 0, 1, alpha=0.5, color='r',\n",
    "\t\t\t# linestyle='--', label='Beats')\n",
    "\tax[1].legend()\n",
    "\n",
    "\tplt.show()"
   ]
  },
  {
   "cell_type": "markdown",
   "metadata": {},
   "source": [
    "Change AUDIO_DB & kb_rec_dir to use different sources for data"
   ]
  },
  {
   "cell_type": "code",
   "execution_count": 7,
   "metadata": {},
   "outputs": [],
   "source": [
    "\n",
    "AUDIO_DB = 'Assorted Channels'\n",
    "kb_rec_dir = 'datasets\\\\{}'.format(AUDIO_DB)\n"
   ]
  },
  {
   "cell_type": "code",
   "execution_count": null,
   "metadata": {},
   "outputs": [
    {
     "name": "stdout",
     "output_type": "stream",
     "text": [
      "['7V but sounds like Jelly Epoch - Typing Test.wav', 'Acrylic Alice w Lubed Gateron Yellows.wav', 'Acrylic Arisu by Kibodo Studio with Cherry Hyperglide Browns.wav', 'Acrylic Tofu65 w lubed Holy Pandas.wav', 'Acrylic XO with Lubed Durock L4 Switches Typing Sounds (GMK Dots, POM Jelly Keycaps).wav', 'Ai03 Vega 65% keyboard typing soundTTC Panda switches FR4 plate.wav', 'Ai03 Vega w Broken-In NovelKeys Cream Sound Test.wav', 'Ai03 Vega w Cherry MX Black (Hyperglides).wav', 'AI03 Vega with Black Cherry Pie Switches Sound Test.wav', 'Axiom Studios Alais R2 with Alpaca V2 Switches TypingSound Test.wav', 'Bakeneko - NK Creams - Sound Test.wav', 'Bakeneko 60 by CannonKeys & Lubed Gateron Black Inks v2 Typing Sound Test ASMR.wav', 'Bakeneko 65 V2  Durock Alpaca  Brass Plate  Typing Sounds.wav', 'Bakeneko with Gateron Black Ink V2s.wav', 'Bakeneko with Gateron Hippos Typing Test.wav', 'Bakeneko60 with Alpacas Typing Sounds.wav', 'BBOX60   Salmon Alps.wav', 'Black Polycarbonate Think6.5 with lubed Cherry MX Browns Typing Sounds ASMR.wav', 'BOK.CP with lubed Healios Typing Sounds.wav', 'Brutal60 SE with lubed Gateron Black Inks.wav', 'Brutal60 w Lubed Akko CS Rose Red - Sounds.wav', 'Brutal60 with lubed Healios Typing Sounds ASMR.wav', 'Build #008 - Alais R2 Typing Test.wav', 'Build #024 - Meridian Typing Test.wav', 'c L a C k Y    s P a C e B a R.wav', 'Cannon Keys Brutal60 WKL in Lilac with Milky Top Mauves Typing Sounds.wav', 'Cannonkeys Lilac Brutal60 with Kiwis Typing Sounds.wav', 'Clacc Clacc!   Bakeneko W Lavenders.wav', 'CM64 Keyboard.wav', 'Creamy Keyboard.wav', 'Cross Handed Typing #shorts.wav', 'D65 Hotswap  Gazzew Boba U4 Silent Tactile Typing Sound Test.wav', 'Dogikon Switches  Brutal60  Pom Plate  ASMR Sound Test.wav', 'Dyesub Leopold FC660C Typing Test (45g Topre) - KeyChatter.com.wav', 'enjoying my silent mechanical keyboard.wav', \"F1-8X by Geonworks. with Zaku's & GMK Perestroika! Typing ASMR Sound Test.wav\", 'F1-8x Plateless with Vintage Black Sound Test.wav', 'F1-8X w Everglide Water Kings (Aqua Kings).wav', 'F1-8x with Vintage Black Sound Test.wav', \"Fedmyster's KBD75v2 with lubed 62g Aqua Zilents Typing Sounds ASMR.wav\", 'Fjell with lubed Holy Pandas Typing Sounds (retest).wav', 'Frog with lubed Durock Pom Linear Switches.wav', \"G2 Pengu's Keycult No.165 Commission with lubed Cherry MX Browns Typing Sounds ASMR.wav\", 'Gateron Ink Blacks + MT3 Godspeed, GMK Oblivion, EPBT BoW on Savage65 Typing Sounds.wav', 'Gentleman 65 Suited Edition Sound Test (PC And ALU).wav', 'Gentleman65 SE with Momoka Frogs Typing Sound Test (FR4 Plate).wav', 'geon works frog tkl keyboard typing sounds - mx blacks.wav', 'GMMK Pro Sound Test  Creamerons with Alu Plate + Typing Test.wav', 'GMMK PRO w Aqua Kings.wav', 'HEX.4B with Gateron Lion Typing Sounds Test ASMR.wav', 'Holy Bobas on ai03 Vega + PC Plate.wav', 'Holy Panda on SPACE65 #shorts.wav', 'Horde Themed Keycult No.1 with lubed Red Gateron Inks Typing Sounds ASMR.wav', 'IBM Model F XT Typing Sounds.wav', 'IBM Pingmaster with BEEPER ON Typing Sounds.wav', 'Ikki68 Aurora with Auralite Switches (lubed and filmed) Sound Test.wav', 'Invictus (Private GB version RE.60) with Hyperglides.wav', 'Iron 165 R2 with Cherry Hyperglide Mx Brown.wav', 'Iron180  Smith + Rune  Forged Carbon Fiber Plate  Black Cherry Pie.wav', 'J-01 with lubed Yellow Gateron Inks Typing Sounds ASMR.wav', 'Jelly Epoch  Durock Poms.wav', 'Jelly Epoch  Gateron Yellow Milky Top Switches w UHMWPE stems.wav', 'Jelly Epoch Alpaca V2 Akko ASA sound test.wav', 'Jelly Epoch with Konpeitous sound test.wav', 'Kailh BOX Mute Jade Sound Test.wav', 'Kawasaki keyboard Typing Sounds ASMR.wav', 'KBD67 Lite Mint R2 - Sound Test v24.0 (Brass Plate  Boba Ice Thoccs  No Mute Silicone on Plate).wav', 'KBD67Lite W KTT Rose Switch Lubed and Filmed Sound Test.wav', 'KBDFANS Tofu84 acrylic milky yellow sound test.wav', 'Keyboard Typing ASMR - TGR Jane V2 - Orange Alps.wav', 'Keychron Q1 + GMK STRIKER. w Alpacas! Typing ASMR Sound Test.wav', 'Keychron Q1 + PANDAS!  TapeTempest Mod. w CRP Arabic!! Typing ASMR Sound Test.wav', 'Keychron Q1 Sound Test After Tape Mod, Force Break and Cotton Mod.wav', 'Keychron Q1! W Marshmallows + Tempest Mod + Switch Pads. 6 Mins Typing ASMR.wav', 'Keycult No. 265 with Zaku Switches Typing Sound Test.wav', 'KFE CE w Cherry MX Browns (Hyperglides).wav', 'Kintsugi Salamander with lubed 78g Zilents V2 Typing Sounds ASMR.wav', 'Leopold FC660C (Topre 45g).wav', 'Leopold FC660C - Topre Silent 45g - Typing & Sound Test! (147 WPM).wav', 'light tactiles are endgame  Bakeneko60 with Durock Light Tactiles Typing Sounds.wav', 'long pole gummy o ring is noice clack  Bakeneko60 with Techno Violets Typing Sounds.wav', 'loud poppy mechanical keyboard.wav', 'LSJ Ares with lubed 68g YOK Holy Pandas Typing Sounds.wav', 'Lubed and Filmed Penyu Switch on Singa Unikorn R2.1 Sound Test.wav', 'Lyn Whale R2 with lubed Retooled Cherry MX Blacks Typing Sounds ASMR.wav', 'LZ CLS w Lubed and filmed retooled MX browns.wav', 'Magnet 039 with lubed Cherry MX Blacks Typing Sounds ASMR.wav', 'Matrix 1.2OG with Cherry MX Blacks Typing Sounds ASMR.wav', 'mechanical keyboard sound good.wav', 'Mode Eighty (2022) Typing Sounds ASMR.wav', 'Mode SixtyFive with lubed Cherry MX Blacks Typing Sounds ASMR.wav', 'Monokei Hiro with lubed Gateron Black Milky Top KS-3 Typing Sounds ASMR.wav', 'Mr. Suit with Cherry MX Hyperglides Black  Typing Sounds.wav', 'MW65 Sound Test with Milky Top Bobas.wav', 'My Favorite  Holy Tactile - ai03 Vega with Holy Boba Frankenswitch Typing Sounds.wav', 'my marshmallows were too heavy...  Bakeneko60 with Thic Thock Marshmallows.wav', 'NK65 Entry Edition  Hamaji Neo Budget Keyboard Submission  GMK Red Samurai  Sound Test.wav', 'Noxary XRF Prototype Typing Sounds ASMR.wav', 'Nue w TTC Cyber Panda Switches Sound Demo.wav', 'OA Switches  Brutal60  POM Plate  ASMR Sound Test.wav', 'OwLab x Mr. Suit TKL  OPBlack  FR4  Typing Sounds.wav', 'Pewter switches on Jane 1.5 with brass plate.wav', 'pom jelly asmr typing  ktt strawberry (no mid-roll ads).wav', 'Portico67 - THE KING OF CLACK.wav', 'Premium Clicky Mechanical Keyboard Sounds.wav', 'Red Salvation - Sound Demo w RAED switches.wav', 'Retro Refrigerator Heavy Grail Typing Sounds ASMR.wav', 'Rose Gold Polaris w Tuned Hippo Linear Switches.wav', 'Slipline Prototype with lubed 62g MX Zilents Typing Sounds ASMR.wav', 'so pretty but so muted...  Ikki68 Aurora with C³ Banana Splits Typing Sounds.wav', 'Sound Check -  KBD75 w Drop Holy Panda.wav', 'Sound Check - Frog TKL by Geonworks w Lubed SP-Star Polaris Grey (Typing Test).wav', 'Sound Test Aluminum Pearl with MX Silents.wav', 'Soundtest  Ep. 25  JWICK ALOE   KBD67 LITE R2.wav', 'Soundtest  Ep. 26  JWICK ALOE  IKKI AURORA 68.wav', 'Square X 60 w Cherry Hyperglide Browns.wav', 'Stock & Modded Anne Pro 2 Typing Sound Comparison (Gateron Blues & Halo Clears).wav', 'Stock JustSystems x Realforce 108UG-HiPro-JS Typing Sounds.wav', 'Stock Penyu Switch on Singa Unikorn R2.1 Sound Test.wav', \"Tfue's Keycult No.160 Commission with lubed NovelKeys Creams Typing Sounds ASMR.wav\", 'TGR Alice with lubed 55g Creams Typing Sounds.wav', 'TGR Jane V2 built with NOS Vintage Cherry MX Blacks on CF plate Typing Sound Test.wav', 'TGR Jane V2 CE Sound Test - Cherry Top NK Silk Black Switches.wav', 'TGR Jane v2 CE with lubed Boba U4Ts Typing Sounds.wav', 'TGR Jane v2 CE with lubed MX Browns Typing Sounds.wav', 'TGR Jane V2 Typing sounds (SKCL Green Alps).wav', 'TGR x Singa Unikorn w Bobagums  Typing Test.wav', 'TGR x SINGA Unikorn with lubed NovelKeys Creams Typing Sounds ASMR.wav', 'the bakeneko typing sound test that will send you to heaven.wav', 'This is the thockiest keyboard.wav', 'this keyboard should not sound this good.wav', 'ThockyCreamy Keyboard ($50 Goodness).wav', \"Turquoise Alais with BCP Switches (Plate Foam + Barker's Switch Foam).wav\", 'TX-CP with lubed 68g MX Zilents Typing Sounds ASMR.wav', 'Typing Demo XL - lubed linear NMB space invaders (Hi-Tek 725) (ASMR).wav', 'Vega by Ai03 & KevinPlus Sound  Type Test with Lavenders by CannonKeys.wav', 'Volcano660 with Hyperglide Blacks Typing Sounds ASMR.wav', 'What 30 Years Old Switches Sound Like.wav', 'What Does A $1300 Keyboard Sound Like.wav', 'When you try building that one keyboard.wav', 'whynot sound test - Pom Plate with Zykos.wav', \"Woops' KBD19X with lubed Cherry MX Browns Typing Sounds ASMR.wav\", 'XO V3 Aluminum Plate + GMK Rudy Typing Sounds (OA Switches).wav', '[ALPS] 350mimi Polycarbonate Salmon Alps.wav', '[ALPS] AEK-I (M0115) SKCM Orange Alps Typing Demo.wav', '[ALPS] Bakeneko60 SKCL Green  Alps switches Typing Test.wav', '[ALPS] IBM 5535 SKFM White ALPS Typing demo.wav', '[ASMR] 풀윤활 적축 기계식 키보드 타건 - 엠스톤 그루브 T87A 실리콘.wav', '[MX frankenswitches] CRP BBOX 60 WKL  Zealiostotle Typing Demo.wav', '[Proto] Build #022 - Typ65+ Prototype V2 Typing Test.wav', '[Rebuild] Build #023 - Sangeo60 Azure Dragon Typing Test.wav', '[Soundtest] F1-8x with lubed Cherry Ultraglides.wav', '[Typing Sounds Only] MOJO65 + MDA Label Keycaps + Gateron Ink Blacks.wav', '⌨ Phase One 65 - Gazzew Boba U4 lubed & filmed typing.wav', '도자기 키캡.wav', '폼생폼사.wav']\n",
      "7V but sounds like Jelly Epoch - Typing Test\n",
      "processing datasets\\Assorted Channels\\7V but sounds like Jelly Epoch - Typing Test.wav\n"
     ]
    },
    {
     "name": "stderr",
     "output_type": "stream",
     "text": [
      "C:\\Users\\anaki\\AppData\\Local\\Temp\\ipykernel_25288\\2468943490.py:9: FutureWarning: Pass y=[0. 0. 0. ... 0. 0. 0.] as keyword args. From version 0.10 passing these as positional arguments will result in an error\n",
      "  onset_env = librosa.onset.onset_strength(y, sr=sr,\n"
     ]
    },
    {
     "name": "stdout",
     "output_type": "stream",
     "text": [
      "7V but sounds like Jelly Epoch - Typing Test - - - done\n",
      "Acrylic Alice w Lubed Gateron Yellows\n",
      "processing datasets\\Assorted Channels\\Acrylic Alice w Lubed Gateron Yellows.wav\n",
      "Acrylic Alice w Lubed Gateron Yellows - - - done\n",
      "Acrylic Arisu by Kibodo Studio with Cherry Hyperglide Browns\n",
      "processing datasets\\Assorted Channels\\Acrylic Arisu by Kibodo Studio with Cherry Hyperglide Browns.wav\n",
      "Acrylic Arisu by Kibodo Studio with Cherry Hyperglide Browns - - - done\n",
      "Acrylic Tofu65 w lubed Holy Pandas\n",
      "processing datasets\\Assorted Channels\\Acrylic Tofu65 w lubed Holy Pandas.wav\n",
      "Acrylic Tofu65 w lubed Holy Pandas - - - done\n",
      "Acrylic XO with Lubed Durock L4 Switches Typing Sounds (GMK Dots, POM Jelly Keycaps)\n",
      "processing datasets\\Assorted Channels\\Acrylic XO with Lubed Durock L4 Switches Typing Sounds (GMK Dots, POM Jelly Keycaps).wav\n",
      "Acrylic XO with Lubed Durock L4 Switches Typing Sounds (GMK Dots, POM Jelly Keycaps) - - - done\n",
      "Ai03 Vega 65% keyboard typing soundTTC Panda switches FR4 plate\n",
      "processing datasets\\Assorted Channels\\Ai03 Vega 65% keyboard typing soundTTC Panda switches FR4 plate.wav\n",
      "Ai03 Vega 65% keyboard typing soundTTC Panda switches FR4 plate - - - done\n",
      "Ai03 Vega w Broken-In NovelKeys Cream Sound Test\n",
      "processing datasets\\Assorted Channels\\Ai03 Vega w Broken-In NovelKeys Cream Sound Test.wav\n",
      "Ai03 Vega w Broken-In NovelKeys Cream Sound Test - - - done\n",
      "Ai03 Vega w Cherry MX Black (Hyperglides)\n",
      "processing datasets\\Assorted Channels\\Ai03 Vega w Cherry MX Black (Hyperglides).wav\n",
      "Ai03 Vega w Cherry MX Black (Hyperglides) - - - done\n",
      "AI03 Vega with Black Cherry Pie Switches Sound Test\n",
      "processing datasets\\Assorted Channels\\AI03 Vega with Black Cherry Pie Switches Sound Test.wav\n"
     ]
    }
   ],
   "source": [
    "\n",
    "for _, (dirpath, _, filenames) in enumerate(os.walk(kb_rec_dir)):\n",
    "\tprint(filenames)\n",
    "\tfor f in filenames:\n",
    "\t\t# recording_name = path_leaf(f)\n",
    "\t\trecording_name = os.path.splitext(f)[0]\n",
    "\t\t# os.path.splitext(f)[0]\n",
    "\t\tprint(recording_name)\n",
    "\n",
    "\t\trecording_file_path = kb_rec_dir + \"\\\\\" + f\n",
    "\t\tprint(\"processing {}\".format(recording_file_path))\n",
    "\n",
    "\t\ty, sr = librosa.load(recording_file_path)\n",
    "\n",
    "\t\tonsets = get_onsets(y, sr)\n",
    "\t\t# visualize_this_stuff(y, sr, onsets, get_beats(y,sr,onsets))\n",
    "\n",
    "\t\tget_sample_sounds_from_onsets(y, sr, onsets, AUDIO_DB, recording_name)\n"
   ]
  },
  {
   "cell_type": "code",
   "execution_count": null,
   "metadata": {},
   "outputs": [],
   "source": []
  }
 ],
 "metadata": {
  "kernelspec": {
   "display_name": "Python 3 (ipykernel)",
   "language": "python",
   "name": "python3"
  },
  "language_info": {
   "codemirror_mode": {
    "name": "ipython",
    "version": 3
   },
   "file_extension": ".py",
   "mimetype": "text/x-python",
   "name": "python",
   "nbconvert_exporter": "python",
   "pygments_lexer": "ipython3",
   "version": "3.9.2"
  },
  "vscode": {
   "interpreter": {
    "hash": "03e0c06d8e07dd03ce4c45592e158919e4e787c6d78fd647afa578111230fafe"
   }
  }
 },
 "nbformat": 4,
 "nbformat_minor": 4
}
