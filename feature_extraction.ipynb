{
 "cells": [
  {
   "cell_type": "code",
   "execution_count": null,
   "metadata": {},
   "outputs": [],
   "source": [
    "import librosa\n",
    "import numpy as np\n",
    "import matplotlib.pyplot as plt\n",
    "import librosa.display\n",
    "import os"
   ]
  },
  {
   "cell_type": "code",
   "execution_count": null,
   "metadata": {},
   "outputs": [],
   "source": [
    "def get_file_persist_path(persistence_path, ft_name):\n",
    "    return '{}\\\\{}.npy'.format(persistence_path, ft_name)\n"
   ]
  },
  {
   "cell_type": "code",
   "execution_count": null,
   "metadata": {},
   "outputs": [],
   "source": [
    "\n",
    "FRAME_LENGTH = 1024 # samples\n",
    "HOP_LENGTH = 512 #512\n",
    "AUDIO_DB = \"filled types\"\n",
    "kb_rec_dir = 'datasets\\\\{}'.format(AUDIO_DB)\n"
   ]
  },
  {
   "cell_type": "code",
   "execution_count": null,
   "metadata": {},
   "outputs": [],
   "source": [
    "\n",
    "for _, (dirpath, _, filenames) in enumerate(os.walk(kb_rec_dir)):\n",
    "    for f in filenames:\n",
    "        recording_name = os.path.splitext(f)[0]\n",
    "        print('processing {} . . . '.format(recording_name))\n",
    "\n",
    "        y, sr = librosa.load(\"datasets\\\\{}\\\\{}\".format(AUDIO_DB, f))\n",
    "\n",
    "        root_mean_square = librosa.feature.rms(y=y, frame_length=FRAME_LENGTH, hop_length=HOP_LENGTH)\n",
    "        spectral_centroid = librosa.feature.spectral_centroid(y=y, win_length=FRAME_LENGTH, hop_length=HOP_LENGTH)\n",
    "        spectral_bandwidth = librosa.feature.spectral_bandwidth(y=y, win_length=FRAME_LENGTH, hop_length=HOP_LENGTH)\n",
    "        # spectral_contrast = librosa.feature.spectral_contrast(y=y, win_length=FRAME_SIZE) # not 1d\n",
    "        spectral_flatness = librosa.feature.spectral_flatness(y=y, win_length=FRAME_LENGTH, hop_length=HOP_LENGTH)\n",
    "        spectral_rolloff = librosa.feature.spectral_rolloff(y=y, win_length=FRAME_LENGTH, hop_length=HOP_LENGTH)\n",
    "        zero_crossing_rate = librosa.feature.zero_crossing_rate(y=y, frame_length=FRAME_LENGTH, hop_length=HOP_LENGTH)\n",
    "\n",
    "\n",
    "        persistence_path = 'data\\\\reprocessed_{}\\\\recording_features\\\\{}'.format(AUDIO_DB, recording_name) #, stem_type)\n",
    "        os.makedirs(persistence_path, mode=0o777, exist_ok=True)\n",
    "\n",
    "        np.save(get_file_persist_path(persistence_path, \"root_mean_square\"), root_mean_square)\n",
    "        np.save(get_file_persist_path(persistence_path, \"spectral_centroid\"), spectral_centroid)\n",
    "        np.save(get_file_persist_path(persistence_path, \"spectral_bandwidth\"), spectral_bandwidth)\n",
    "        np.save(get_file_persist_path(persistence_path, \"spectral_flatness\"), spectral_flatness)\n",
    "        np.save(get_file_persist_path(persistence_path, \"spectral_rolloff\"), spectral_rolloff)\n",
    "        np.save(get_file_persist_path(persistence_path, \"zero_crossing_rate\"), zero_crossing_rate)\n",
    "\n",
    "\n",
    "\n",
    "print('done')"
   ]
  }
 ],
 "metadata": {
  "kernelspec": {
   "display_name": "Python 3.8.4 64-bit",
   "language": "python",
   "name": "python3"
  },
  "language_info": {
   "codemirror_mode": {
    "name": "ipython",
    "version": 3
   },
   "file_extension": ".py",
   "mimetype": "text/x-python",
   "name": "python",
   "nbconvert_exporter": "python",
   "pygments_lexer": "ipython3",
   "version": "3.8.4"
  },
  "orig_nbformat": 4,
  "vscode": {
   "interpreter": {
    "hash": "03e0c06d8e07dd03ce4c45592e158919e4e787c6d78fd647afa578111230fafe"
   }
  }
 },
 "nbformat": 4,
 "nbformat_minor": 2
}
