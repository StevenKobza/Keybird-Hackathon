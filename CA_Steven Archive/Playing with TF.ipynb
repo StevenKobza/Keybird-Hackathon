{
 "cells": [
  {
   "cell_type": "code",
   "execution_count": 1,
   "id": "a0bf3f79-6aa6-40e2-9cb1-01db9ca9eabb",
   "metadata": {},
   "outputs": [],
   "source": [
    "import pandas as pd\n",
    "import tensorflow as tf\n",
    "\n",
    "SHUFFLE_BUFFER = 500\n",
    "BATCH_SIZE = 2"
   ]
  },
  {
   "cell_type": "code",
   "execution_count": 50,
   "id": "0883ad9b-cc46-414a-aabe-16263b2539a4",
   "metadata": {},
   "outputs": [],
   "source": [
    "csv_file = tf.keras.utils.get_file('heart.csv', 'https://storage.googleapis.com/download.tensorflow.org/data/heart.csv')"
   ]
  },
  {
   "cell_type": "code",
   "execution_count": 52,
   "id": "45857e10-313b-459f-9716-0bcfb014e51b",
   "metadata": {},
   "outputs": [
    {
     "data": {
      "text/html": [
       "<div>\n",
       "<style scoped>\n",
       "    .dataframe tbody tr th:only-of-type {\n",
       "        vertical-align: middle;\n",
       "    }\n",
       "\n",
       "    .dataframe tbody tr th {\n",
       "        vertical-align: top;\n",
       "    }\n",
       "\n",
       "    .dataframe thead th {\n",
       "        text-align: right;\n",
       "    }\n",
       "</style>\n",
       "<table border=\"1\" class=\"dataframe\">\n",
       "  <thead>\n",
       "    <tr style=\"text-align: right;\">\n",
       "      <th></th>\n",
       "      <th>age</th>\n",
       "      <th>sex</th>\n",
       "      <th>cp</th>\n",
       "      <th>trestbps</th>\n",
       "      <th>chol</th>\n",
       "      <th>fbs</th>\n",
       "      <th>restecg</th>\n",
       "      <th>thalach</th>\n",
       "      <th>exang</th>\n",
       "      <th>oldpeak</th>\n",
       "      <th>slope</th>\n",
       "      <th>ca</th>\n",
       "      <th>thal</th>\n",
       "      <th>target</th>\n",
       "    </tr>\n",
       "  </thead>\n",
       "  <tbody>\n",
       "    <tr>\n",
       "      <th>0</th>\n",
       "      <td>63</td>\n",
       "      <td>1</td>\n",
       "      <td>1</td>\n",
       "      <td>145</td>\n",
       "      <td>233</td>\n",
       "      <td>1</td>\n",
       "      <td>2</td>\n",
       "      <td>150</td>\n",
       "      <td>0</td>\n",
       "      <td>2.3</td>\n",
       "      <td>3</td>\n",
       "      <td>0</td>\n",
       "      <td>fixed</td>\n",
       "      <td>0</td>\n",
       "    </tr>\n",
       "    <tr>\n",
       "      <th>1</th>\n",
       "      <td>67</td>\n",
       "      <td>1</td>\n",
       "      <td>4</td>\n",
       "      <td>160</td>\n",
       "      <td>286</td>\n",
       "      <td>0</td>\n",
       "      <td>2</td>\n",
       "      <td>108</td>\n",
       "      <td>1</td>\n",
       "      <td>1.5</td>\n",
       "      <td>2</td>\n",
       "      <td>3</td>\n",
       "      <td>normal</td>\n",
       "      <td>1</td>\n",
       "    </tr>\n",
       "    <tr>\n",
       "      <th>2</th>\n",
       "      <td>67</td>\n",
       "      <td>1</td>\n",
       "      <td>4</td>\n",
       "      <td>120</td>\n",
       "      <td>229</td>\n",
       "      <td>0</td>\n",
       "      <td>2</td>\n",
       "      <td>129</td>\n",
       "      <td>1</td>\n",
       "      <td>2.6</td>\n",
       "      <td>2</td>\n",
       "      <td>2</td>\n",
       "      <td>reversible</td>\n",
       "      <td>0</td>\n",
       "    </tr>\n",
       "    <tr>\n",
       "      <th>3</th>\n",
       "      <td>37</td>\n",
       "      <td>1</td>\n",
       "      <td>3</td>\n",
       "      <td>130</td>\n",
       "      <td>250</td>\n",
       "      <td>0</td>\n",
       "      <td>0</td>\n",
       "      <td>187</td>\n",
       "      <td>0</td>\n",
       "      <td>3.5</td>\n",
       "      <td>3</td>\n",
       "      <td>0</td>\n",
       "      <td>normal</td>\n",
       "      <td>0</td>\n",
       "    </tr>\n",
       "    <tr>\n",
       "      <th>4</th>\n",
       "      <td>41</td>\n",
       "      <td>0</td>\n",
       "      <td>2</td>\n",
       "      <td>130</td>\n",
       "      <td>204</td>\n",
       "      <td>0</td>\n",
       "      <td>2</td>\n",
       "      <td>172</td>\n",
       "      <td>0</td>\n",
       "      <td>1.4</td>\n",
       "      <td>1</td>\n",
       "      <td>0</td>\n",
       "      <td>normal</td>\n",
       "      <td>0</td>\n",
       "    </tr>\n",
       "  </tbody>\n",
       "</table>\n",
       "</div>"
      ],
      "text/plain": [
       "   age  sex  cp  trestbps  chol  fbs  restecg  thalach  exang  oldpeak  slope  \\\n",
       "0   63    1   1       145   233    1        2      150      0      2.3      3   \n",
       "1   67    1   4       160   286    0        2      108      1      1.5      2   \n",
       "2   67    1   4       120   229    0        2      129      1      2.6      2   \n",
       "3   37    1   3       130   250    0        0      187      0      3.5      3   \n",
       "4   41    0   2       130   204    0        2      172      0      1.4      1   \n",
       "\n",
       "   ca        thal  target  \n",
       "0   0       fixed       0  \n",
       "1   3      normal       1  \n",
       "2   2  reversible       0  \n",
       "3   0      normal       0  \n",
       "4   0      normal       0  "
      ]
     },
     "execution_count": 52,
     "metadata": {},
     "output_type": "execute_result"
    }
   ],
   "source": [
    "df = pd.read_csv(csv_file)\n",
    "df.head()"
   ]
  },
  {
   "cell_type": "code",
   "execution_count": 53,
   "id": "cd4e0f01-89ba-45a2-8bbd-1963a6fab550",
   "metadata": {},
   "outputs": [],
   "source": [
    "target = df.pop('target')"
   ]
  },
  {
   "cell_type": "code",
   "execution_count": 7,
   "id": "665d87ed-88b6-493d-b76c-b8b25d6d2010",
   "metadata": {},
   "outputs": [
    {
     "data": {
      "text/html": [
       "<div>\n",
       "<style scoped>\n",
       "    .dataframe tbody tr th:only-of-type {\n",
       "        vertical-align: middle;\n",
       "    }\n",
       "\n",
       "    .dataframe tbody tr th {\n",
       "        vertical-align: top;\n",
       "    }\n",
       "\n",
       "    .dataframe thead th {\n",
       "        text-align: right;\n",
       "    }\n",
       "</style>\n",
       "<table border=\"1\" class=\"dataframe\">\n",
       "  <thead>\n",
       "    <tr style=\"text-align: right;\">\n",
       "      <th></th>\n",
       "      <th>age</th>\n",
       "      <th>thalach</th>\n",
       "      <th>trestbps</th>\n",
       "      <th>chol</th>\n",
       "      <th>oldpeak</th>\n",
       "    </tr>\n",
       "  </thead>\n",
       "  <tbody>\n",
       "    <tr>\n",
       "      <th>0</th>\n",
       "      <td>63</td>\n",
       "      <td>150</td>\n",
       "      <td>145</td>\n",
       "      <td>233</td>\n",
       "      <td>2.3</td>\n",
       "    </tr>\n",
       "    <tr>\n",
       "      <th>1</th>\n",
       "      <td>67</td>\n",
       "      <td>108</td>\n",
       "      <td>160</td>\n",
       "      <td>286</td>\n",
       "      <td>1.5</td>\n",
       "    </tr>\n",
       "    <tr>\n",
       "      <th>2</th>\n",
       "      <td>67</td>\n",
       "      <td>129</td>\n",
       "      <td>120</td>\n",
       "      <td>229</td>\n",
       "      <td>2.6</td>\n",
       "    </tr>\n",
       "    <tr>\n",
       "      <th>3</th>\n",
       "      <td>37</td>\n",
       "      <td>187</td>\n",
       "      <td>130</td>\n",
       "      <td>250</td>\n",
       "      <td>3.5</td>\n",
       "    </tr>\n",
       "    <tr>\n",
       "      <th>4</th>\n",
       "      <td>41</td>\n",
       "      <td>172</td>\n",
       "      <td>130</td>\n",
       "      <td>204</td>\n",
       "      <td>1.4</td>\n",
       "    </tr>\n",
       "  </tbody>\n",
       "</table>\n",
       "</div>"
      ],
      "text/plain": [
       "   age  thalach  trestbps  chol  oldpeak\n",
       "0   63      150       145   233      2.3\n",
       "1   67      108       160   286      1.5\n",
       "2   67      129       120   229      2.6\n",
       "3   37      187       130   250      3.5\n",
       "4   41      172       130   204      1.4"
      ]
     },
     "execution_count": 7,
     "metadata": {},
     "output_type": "execute_result"
    }
   ],
   "source": [
    "numeric_feature_names = [\"age\", \"thalach\", \"trestbps\", \"chol\", \"oldpeak\"]\n",
    "numeric_features = df[numeric_feature_names]\n",
    "numeric_features.head()"
   ]
  },
  {
   "cell_type": "code",
   "execution_count": 8,
   "id": "2e4bf5e7-4585-4487-a032-b541d5ea02c2",
   "metadata": {},
   "outputs": [
    {
     "data": {
      "text/plain": [
       "<tf.Tensor: shape=(303, 5), dtype=float64, numpy=\n",
       "array([[ 63. , 150. , 145. , 233. ,   2.3],\n",
       "       [ 67. , 108. , 160. , 286. ,   1.5],\n",
       "       [ 67. , 129. , 120. , 229. ,   2.6],\n",
       "       ...,\n",
       "       [ 65. , 127. , 135. , 254. ,   2.8],\n",
       "       [ 48. , 150. , 130. , 256. ,   0. ],\n",
       "       [ 63. , 154. , 150. , 407. ,   4. ]])>"
      ]
     },
     "execution_count": 8,
     "metadata": {},
     "output_type": "execute_result"
    }
   ],
   "source": [
    "tf.convert_to_tensor(numeric_features)"
   ]
  },
  {
   "cell_type": "code",
   "execution_count": 9,
   "id": "e4296e27-5b09-48bd-b463-8404fd0e12d2",
   "metadata": {},
   "outputs": [],
   "source": [
    "normalizer = tf.keras.layers.Normalization(axis=-1)\n",
    "normalizer.adapt(numeric_features)"
   ]
  },
  {
   "cell_type": "code",
   "execution_count": 10,
   "id": "d5cb4cca-d239-4235-8ff2-1df34bf5db9a",
   "metadata": {},
   "outputs": [
    {
     "data": {
      "text/plain": [
       "<tf.Tensor: shape=(3, 5), dtype=float32, numpy=\n",
       "array([[ 0.93383914,  0.03480718,  0.74578077, -0.26008663,  1.0680453 ],\n",
       "       [ 1.3782105 , -1.7806165 ,  1.5923285 ,  0.7573877 ,  0.38022864],\n",
       "       [ 1.3782105 , -0.87290466, -0.6651321 , -0.33687714,  1.3259765 ]],\n",
       "      dtype=float32)>"
      ]
     },
     "execution_count": 10,
     "metadata": {},
     "output_type": "execute_result"
    }
   ],
   "source": [
    "normalizer(numeric_features.iloc[:3])"
   ]
  },
  {
   "cell_type": "code",
   "execution_count": 13,
   "id": "f9a350be-3726-44aa-b952-8527f43d419b",
   "metadata": {},
   "outputs": [],
   "source": [
    "def get_basic_model():\n",
    "    model = tf.keras.Sequential([\n",
    "        normalizer,\n",
    "        tf.keras.layers.Dense(10, activation='relu'),\n",
    "        tf.keras.layers.Dense(10, activation='relu'),\n",
    "        tf.keras.layers.Dense(1)\n",
    "    ])\n",
    "    \n",
    "    model.compile(optimizer='adam',\n",
    "                  loss=tf.keras.losses.BinaryCrossentropy(from_logits=True),\n",
    "                  metrics=['accuracy'])\n",
    "    return model"
   ]
  },
  {
   "cell_type": "code",
   "execution_count": 24,
   "id": "b1b1bad8-1526-4656-bd6d-9cc5319a5644",
   "metadata": {},
   "outputs": [
    {
     "name": "stdout",
     "output_type": "stream",
     "text": [
      "Epoch 1/15\n",
      "152/152 [==============================] - 1s 5ms/step - loss: 2.5006 - accuracy: 0.7261\n",
      "Epoch 2/15\n",
      "152/152 [==============================] - 0s 3ms/step - loss: 0.5615 - accuracy: 0.7261\n",
      "Epoch 3/15\n",
      "152/152 [==============================] - 0s 3ms/step - loss: 0.5442 - accuracy: 0.7261\n",
      "Epoch 4/15\n",
      "152/152 [==============================] - 0s 3ms/step - loss: 0.5331 - accuracy: 0.7261\n",
      "Epoch 5/15\n",
      "152/152 [==============================] - 0s 3ms/step - loss: 0.5297 - accuracy: 0.7261\n",
      "Epoch 6/15\n",
      "152/152 [==============================] - 0s 3ms/step - loss: 0.5198 - accuracy: 0.7261\n",
      "Epoch 7/15\n",
      "152/152 [==============================] - 0s 2ms/step - loss: 0.5158 - accuracy: 0.7261\n",
      "Epoch 8/15\n",
      "152/152 [==============================] - 0s 3ms/step - loss: 0.5097 - accuracy: 0.7261\n",
      "Epoch 9/15\n",
      "152/152 [==============================] - 0s 3ms/step - loss: 0.5032 - accuracy: 0.7261\n",
      "Epoch 10/15\n",
      "152/152 [==============================] - 0s 3ms/step - loss: 0.5064 - accuracy: 0.7261\n",
      "Epoch 11/15\n",
      "152/152 [==============================] - 0s 3ms/step - loss: 0.5023 - accuracy: 0.7261\n",
      "Epoch 12/15\n",
      "152/152 [==============================] - 0s 3ms/step - loss: 0.5040 - accuracy: 0.7261\n",
      "Epoch 13/15\n",
      "152/152 [==============================] - 1s 4ms/step - loss: 0.5026 - accuracy: 0.7261\n",
      "Epoch 14/15\n",
      "152/152 [==============================] - 0s 3ms/step - loss: 0.4973 - accuracy: 0.7261\n",
      "Epoch 15/15\n",
      "152/152 [==============================] - 0s 3ms/step - loss: 0.5007 - accuracy: 0.7261\n"
     ]
    },
    {
     "data": {
      "text/plain": [
       "<keras.callbacks.History at 0x28ce57e44c0>"
      ]
     },
     "execution_count": 24,
     "metadata": {},
     "output_type": "execute_result"
    }
   ],
   "source": [
    "model = get_basic_model()\n",
    "model.fit(numeric_features, target, epochs=15, batch_size=BATCH_SIZE)"
   ]
  },
  {
   "cell_type": "code",
   "execution_count": 18,
   "id": "56ad91a3-6725-4d2f-9896-f2495ed19e87",
   "metadata": {},
   "outputs": [
    {
     "name": "stdout",
     "output_type": "stream",
     "text": [
      "(<tf.Tensor: shape=(5,), dtype=float64, numpy=array([ 63. , 150. , 145. , 233. ,   2.3])>, <tf.Tensor: shape=(), dtype=int64, numpy=0>)\n",
      "(<tf.Tensor: shape=(5,), dtype=float64, numpy=array([ 67. , 108. , 160. , 286. ,   1.5])>, <tf.Tensor: shape=(), dtype=int64, numpy=1>)\n",
      "(<tf.Tensor: shape=(5,), dtype=float64, numpy=array([ 67. , 129. , 120. , 229. ,   2.6])>, <tf.Tensor: shape=(), dtype=int64, numpy=0>)\n"
     ]
    }
   ],
   "source": [
    "numeric_dataset = tf.data.Dataset.from_tensor_slices((numeric_features, target))\n",
    "\n",
    "for row in numeric_dataset.take(3):\n",
    "    print(row)"
   ]
  },
  {
   "cell_type": "code",
   "execution_count": 19,
   "id": "ad5dcf4e-5a32-4209-bae6-5d42e6d62e61",
   "metadata": {},
   "outputs": [
    {
     "name": "stdout",
     "output_type": "stream",
     "text": [
      "Epoch 1/15\n",
      "152/152 [==============================] - 1s 3ms/step - loss: 0.5706 - accuracy: 0.7261\n",
      "Epoch 2/15\n",
      "152/152 [==============================] - 0s 3ms/step - loss: 0.5168 - accuracy: 0.7261\n",
      "Epoch 3/15\n",
      "152/152 [==============================] - 0s 3ms/step - loss: 0.4937 - accuracy: 0.7261\n",
      "Epoch 4/15\n",
      "152/152 [==============================] - 0s 3ms/step - loss: 0.4792 - accuracy: 0.7261\n",
      "Epoch 5/15\n",
      "152/152 [==============================] - 0s 3ms/step - loss: 0.4681 - accuracy: 0.7261\n",
      "Epoch 6/15\n",
      "152/152 [==============================] - 0s 3ms/step - loss: 0.4573 - accuracy: 0.7327\n",
      "Epoch 7/15\n",
      "152/152 [==============================] - 0s 3ms/step - loss: 0.4494 - accuracy: 0.7459\n",
      "Epoch 8/15\n",
      "152/152 [==============================] - 0s 3ms/step - loss: 0.4435 - accuracy: 0.7558\n",
      "Epoch 9/15\n",
      "152/152 [==============================] - 0s 3ms/step - loss: 0.4378 - accuracy: 0.7591\n",
      "Epoch 10/15\n",
      "152/152 [==============================] - 0s 3ms/step - loss: 0.4336 - accuracy: 0.7624\n",
      "Epoch 11/15\n",
      "152/152 [==============================] - 0s 2ms/step - loss: 0.4282 - accuracy: 0.7822\n",
      "Epoch 12/15\n",
      "152/152 [==============================] - 0s 3ms/step - loss: 0.4245 - accuracy: 0.7822\n",
      "Epoch 13/15\n",
      "152/152 [==============================] - 0s 3ms/step - loss: 0.4217 - accuracy: 0.7855\n",
      "Epoch 14/15\n",
      "152/152 [==============================] - 0s 3ms/step - loss: 0.4194 - accuracy: 0.8020\n",
      "Epoch 15/15\n",
      "152/152 [==============================] - 0s 3ms/step - loss: 0.4177 - accuracy: 0.7921\n"
     ]
    },
    {
     "data": {
      "text/plain": [
       "<keras.callbacks.History at 0x28ce52d5fd0>"
      ]
     },
     "execution_count": 19,
     "metadata": {},
     "output_type": "execute_result"
    }
   ],
   "source": [
    "numeric_batches = numeric_dataset.shuffle(1000).batch(BATCH_SIZE)\n",
    "\n",
    "model = get_basic_model()\n",
    "model.fit(numeric_batches, epochs=15)"
   ]
  },
  {
   "cell_type": "code",
   "execution_count": 25,
   "id": "a82bb00b-527c-4723-b5c3-2e1d007cf6eb",
   "metadata": {},
   "outputs": [],
   "source": [
    "def stack_dict(inputs, fun=tf.stack):\n",
    "    values = []\n",
    "    for key in sorted(inputs.keys()):\n",
    "        values.append(tf.cast(inputs[key], tf.float32))\n",
    "        \n",
    "    return fun(values, axis=-1)"
   ]
  },
  {
   "cell_type": "code",
   "execution_count": 21,
   "id": "c57e9b04-189a-4fd7-bfd3-4c57d579e398",
   "metadata": {},
   "outputs": [
    {
     "data": {
      "text/plain": [
       "{'age': <KerasTensor: shape=(None,) dtype=float32 (created by layer 'age')>,\n",
       " 'sex': <KerasTensor: shape=(None,) dtype=int64 (created by layer 'sex')>,\n",
       " 'cp': <KerasTensor: shape=(None,) dtype=int64 (created by layer 'cp')>,\n",
       " 'trestbps': <KerasTensor: shape=(None,) dtype=float32 (created by layer 'trestbps')>,\n",
       " 'chol': <KerasTensor: shape=(None,) dtype=float32 (created by layer 'chol')>,\n",
       " 'fbs': <KerasTensor: shape=(None,) dtype=int64 (created by layer 'fbs')>,\n",
       " 'restecg': <KerasTensor: shape=(None,) dtype=int64 (created by layer 'restecg')>,\n",
       " 'thalach': <KerasTensor: shape=(None,) dtype=float32 (created by layer 'thalach')>,\n",
       " 'exang': <KerasTensor: shape=(None,) dtype=int64 (created by layer 'exang')>,\n",
       " 'oldpeak': <KerasTensor: shape=(None,) dtype=float32 (created by layer 'oldpeak')>,\n",
       " 'slope': <KerasTensor: shape=(None,) dtype=int64 (created by layer 'slope')>,\n",
       " 'ca': <KerasTensor: shape=(None,) dtype=int64 (created by layer 'ca')>,\n",
       " 'thal': <KerasTensor: shape=(None,) dtype=string (created by layer 'thal')>}"
      ]
     },
     "execution_count": 21,
     "metadata": {},
     "output_type": "execute_result"
    }
   ],
   "source": [
    "binary_feature_names = ['sex', 'fbs', 'exang']\n",
    "categorical_feature_names = ['cp', 'restecg', 'slope', 'thal', 'ca']\n",
    "\n",
    "inputs = {}\n",
    "for name, column in df.items():\n",
    "    if type(column[0]) == str:\n",
    "        dtype = tf.string\n",
    "    elif (name in categorical_feature_names or name in binary_feature_names):\n",
    "        dtype = tf.int64\n",
    "    else:\n",
    "        dtype = tf.float32\n",
    "    \n",
    "    inputs[name] = tf.keras.Input(shape = (), name=name, dtype = dtype)\n",
    "\n",
    "inputs"
   ]
  },
  {
   "cell_type": "code",
   "execution_count": 22,
   "id": "79953e92-0262-4afc-8685-475a2a8a6482",
   "metadata": {},
   "outputs": [
    {
     "data": {
      "text/plain": [
       "[<KerasTensor: shape=(None, 1) dtype=float32 (created by layer 'tf.cast')>,\n",
       " <KerasTensor: shape=(None, 1) dtype=float32 (created by layer 'tf.cast_1')>,\n",
       " <KerasTensor: shape=(None, 1) dtype=float32 (created by layer 'tf.cast_2')>]"
      ]
     },
     "execution_count": 22,
     "metadata": {},
     "output_type": "execute_result"
    }
   ],
   "source": [
    "preprocessed = []\n",
    "\n",
    "for name in binary_feature_names:\n",
    "    inp = inputs[name]\n",
    "    inp = inp[:, tf.newaxis]\n",
    "    float_value = tf.cast(inp, tf.float32)\n",
    "    preprocessed.append(float_value)\n",
    "\n",
    "preprocessed"
   ]
  },
  {
   "cell_type": "code",
   "execution_count": 26,
   "id": "aaf44301-01af-496c-8e6c-c1c07a970238",
   "metadata": {},
   "outputs": [
    {
     "data": {
      "text/plain": [
       "[<KerasTensor: shape=(None, 1) dtype=float32 (created by layer 'tf.cast')>,\n",
       " <KerasTensor: shape=(None, 1) dtype=float32 (created by layer 'tf.cast_1')>,\n",
       " <KerasTensor: shape=(None, 1) dtype=float32 (created by layer 'tf.cast_2')>,\n",
       " <KerasTensor: shape=(None, 5) dtype=float32 (created by layer 'normalization_2')>]"
      ]
     },
     "execution_count": 26,
     "metadata": {},
     "output_type": "execute_result"
    }
   ],
   "source": [
    "normalizer = tf.keras.layers.Normalization(axis=-1)\n",
    "normalizer.adapt(stack_dict(dict(numeric_features)))\n",
    "\n",
    "numeric_inputs = {}\n",
    "for name in numeric_feature_names:\n",
    "    numeric_inputs[name] = inputs[name]\n",
    "\n",
    "numeric_inputs = stack_dict(numeric_inputs)\n",
    "numeric_normalized = normalizer(numeric_inputs)\n",
    "\n",
    "preprocessed.append(numeric_normalized)\n",
    "\n",
    "preprocessed"
   ]
  },
  {
   "cell_type": "code",
   "execution_count": 27,
   "id": "579fc5aa-d6a3-40c5-b8f2-b31a4ddfda1e",
   "metadata": {},
   "outputs": [
    {
     "data": {
      "text/plain": [
       "<tf.Tensor: shape=(5, 4), dtype=float32, numpy=\n",
       "array([[0., 0., 0., 1.],\n",
       "       [0., 1., 0., 0.],\n",
       "       [0., 1., 0., 0.],\n",
       "       [0., 0., 1., 0.],\n",
       "       [1., 0., 0., 0.]], dtype=float32)>"
      ]
     },
     "execution_count": 27,
     "metadata": {},
     "output_type": "execute_result"
    }
   ],
   "source": [
    "vocab = ['a', 'b', 'c']\n",
    "lookup  = tf.keras.layers.StringLookup(vocabulary=vocab, output_mode = \"one_hot\")\n",
    "lookup(['c', 'a', 'a', 'b', 'zzz'])"
   ]
  },
  {
   "cell_type": "code",
   "execution_count": 28,
   "id": "13e22d80-fa6d-431d-8d8b-304ba2fb52f1",
   "metadata": {},
   "outputs": [
    {
     "data": {
      "text/plain": [
       "<tf.Tensor: shape=(3, 5), dtype=float32, numpy=\n",
       "array([[1., 0., 0., 0., 0.],\n",
       "       [0., 0., 1., 0., 0.],\n",
       "       [0., 1., 0., 0., 0.]], dtype=float32)>"
      ]
     },
     "execution_count": 28,
     "metadata": {},
     "output_type": "execute_result"
    }
   ],
   "source": [
    "vocab = [1, 4, 7, 99]\n",
    "lookup = tf.keras.layers.IntegerLookup(vocabulary=vocab, output_mode='one_hot')\n",
    "lookup([-1, 4, 1])"
   ]
  },
  {
   "cell_type": "code",
   "execution_count": 29,
   "id": "3562122a-d08f-47c4-819c-8c9f7ba10ec5",
   "metadata": {},
   "outputs": [
    {
     "name": "stdout",
     "output_type": "stream",
     "text": [
      "name: cp\n",
      "vocab: [0, 1, 2, 3, 4]\n",
      "\n",
      "name: restecg\n",
      "vocab: [0, 1, 2]\n",
      "\n",
      "name: slope\n",
      "vocab: [1, 2, 3]\n",
      "\n",
      "name: thal\n",
      "vocab: ['1', '2', 'fixed', 'normal', 'reversible']\n",
      "\n",
      "name: ca\n",
      "vocab: [0, 1, 2, 3]\n",
      "\n"
     ]
    }
   ],
   "source": [
    "for name in categorical_feature_names:\n",
    "  vocab = sorted(set(df[name]))\n",
    "  print(f'name: {name}')\n",
    "  print(f'vocab: {vocab}\\n')\n",
    "\n",
    "  if type(vocab[0]) is str:\n",
    "    lookup = tf.keras.layers.StringLookup(vocabulary=vocab, output_mode='one_hot')\n",
    "  else:\n",
    "    lookup = tf.keras.layers.IntegerLookup(vocabulary=vocab, output_mode='one_hot')\n",
    "\n",
    "  x = inputs[name][:, tf.newaxis]\n",
    "  x = lookup(x)\n",
    "  preprocessed.append(x)"
   ]
  },
  {
   "cell_type": "code",
   "execution_count": 30,
   "id": "9fe93bc0-1164-4e9a-b2fe-8f8fda466a9c",
   "metadata": {},
   "outputs": [
    {
     "data": {
      "text/plain": [
       "[<KerasTensor: shape=(None, 1) dtype=float32 (created by layer 'tf.cast')>,\n",
       " <KerasTensor: shape=(None, 1) dtype=float32 (created by layer 'tf.cast_1')>,\n",
       " <KerasTensor: shape=(None, 1) dtype=float32 (created by layer 'tf.cast_2')>,\n",
       " <KerasTensor: shape=(None, 5) dtype=float32 (created by layer 'normalization_2')>,\n",
       " <KerasTensor: shape=(None, 6) dtype=float32 (created by layer 'integer_lookup_1')>,\n",
       " <KerasTensor: shape=(None, 4) dtype=float32 (created by layer 'integer_lookup_2')>,\n",
       " <KerasTensor: shape=(None, 4) dtype=float32 (created by layer 'integer_lookup_3')>,\n",
       " <KerasTensor: shape=(None, 6) dtype=float32 (created by layer 'string_lookup_1')>,\n",
       " <KerasTensor: shape=(None, 5) dtype=float32 (created by layer 'integer_lookup_4')>]"
      ]
     },
     "execution_count": 30,
     "metadata": {},
     "output_type": "execute_result"
    }
   ],
   "source": [
    "preprocessed"
   ]
  },
  {
   "cell_type": "code",
   "execution_count": 32,
   "id": "cacaa448-04d1-4c57-a86d-32cab2845fa6",
   "metadata": {},
   "outputs": [
    {
     "data": {
      "text/plain": [
       "<KerasTensor: shape=(None, 33) dtype=float32 (created by layer 'tf.concat_1')>"
      ]
     },
     "execution_count": 32,
     "metadata": {},
     "output_type": "execute_result"
    }
   ],
   "source": [
    "preprocessed_result = tf.concat(preprocessed, axis=-1)\n",
    "preprocessed_result"
   ]
  },
  {
   "cell_type": "code",
   "execution_count": 34,
   "id": "a99b57cd-1f1d-4e61-8b80-c810e6a8f569",
   "metadata": {},
   "outputs": [
    {
     "name": "stdout",
     "output_type": "stream",
     "text": [
      "You must install pydot (`pip install pydot`) and install graphviz (see instructions at https://graphviz.gitlab.io/download/) for plot_model/model_to_dot to work.\n"
     ]
    }
   ],
   "source": [
    "preprocessor = tf.keras.Model(inputs, preprocessed_result)\n",
    "tf.keras.utils.plot_model(preprocessor, rankdir=\"LR\", show_shapes = True)"
   ]
  },
  {
   "cell_type": "code",
   "execution_count": 35,
   "id": "f9290161-355f-42b5-863d-cde763961540",
   "metadata": {},
   "outputs": [
    {
     "data": {
      "text/plain": [
       "<tf.Tensor: shape=(1, 33), dtype=float32, numpy=\n",
       "array([[ 1.        ,  1.        ,  0.        ,  0.93383914, -0.26008663,\n",
       "         1.0680453 ,  0.03480718,  0.74578077,  0.        ,  0.        ,\n",
       "         1.        ,  0.        ,  0.        ,  0.        ,  0.        ,\n",
       "         0.        ,  0.        ,  1.        ,  0.        ,  0.        ,\n",
       "         0.        ,  1.        ,  0.        ,  0.        ,  0.        ,\n",
       "         1.        ,  0.        ,  0.        ,  0.        ,  1.        ,\n",
       "         0.        ,  0.        ,  0.        ]], dtype=float32)>"
      ]
     },
     "execution_count": 35,
     "metadata": {},
     "output_type": "execute_result"
    }
   ],
   "source": [
    "preprocessor(dict(df.iloc[:1]))"
   ]
  },
  {
   "cell_type": "code",
   "execution_count": 36,
   "id": "fe253544-d995-4ec5-bfed-bc0133212456",
   "metadata": {},
   "outputs": [],
   "source": [
    "body = tf.keras.Sequential([\n",
    "    tf.keras.layers.Dense(10, activation='relu'),\n",
    "    tf.keras.layers.Dense(10, activation='relu'),\n",
    "    tf.keras.layers.Dense(1)\n",
    "])"
   ]
  },
  {
   "cell_type": "code",
   "execution_count": 37,
   "id": "9b4c324a-a718-469c-a652-1f6d394861ef",
   "metadata": {},
   "outputs": [
    {
     "data": {
      "text/plain": [
       "{'age': <KerasTensor: shape=(None,) dtype=float32 (created by layer 'age')>,\n",
       " 'sex': <KerasTensor: shape=(None,) dtype=int64 (created by layer 'sex')>,\n",
       " 'cp': <KerasTensor: shape=(None,) dtype=int64 (created by layer 'cp')>,\n",
       " 'trestbps': <KerasTensor: shape=(None,) dtype=float32 (created by layer 'trestbps')>,\n",
       " 'chol': <KerasTensor: shape=(None,) dtype=float32 (created by layer 'chol')>,\n",
       " 'fbs': <KerasTensor: shape=(None,) dtype=int64 (created by layer 'fbs')>,\n",
       " 'restecg': <KerasTensor: shape=(None,) dtype=int64 (created by layer 'restecg')>,\n",
       " 'thalach': <KerasTensor: shape=(None,) dtype=float32 (created by layer 'thalach')>,\n",
       " 'exang': <KerasTensor: shape=(None,) dtype=int64 (created by layer 'exang')>,\n",
       " 'oldpeak': <KerasTensor: shape=(None,) dtype=float32 (created by layer 'oldpeak')>,\n",
       " 'slope': <KerasTensor: shape=(None,) dtype=int64 (created by layer 'slope')>,\n",
       " 'ca': <KerasTensor: shape=(None,) dtype=int64 (created by layer 'ca')>,\n",
       " 'thal': <KerasTensor: shape=(None,) dtype=string (created by layer 'thal')>}"
      ]
     },
     "execution_count": 37,
     "metadata": {},
     "output_type": "execute_result"
    }
   ],
   "source": [
    "inputs"
   ]
  },
  {
   "cell_type": "code",
   "execution_count": 38,
   "id": "4cb7d35b-c976-4747-a63a-fa6c3ed35a68",
   "metadata": {},
   "outputs": [
    {
     "data": {
      "text/plain": [
       "<KerasTensor: shape=(None, 33) dtype=float32 (created by layer 'model_1')>"
      ]
     },
     "execution_count": 38,
     "metadata": {},
     "output_type": "execute_result"
    }
   ],
   "source": [
    "x = preprocessor(inputs)\n",
    "x"
   ]
  },
  {
   "cell_type": "code",
   "execution_count": 39,
   "id": "b8733b76-5ce5-4f2c-bae1-687e6b9f07c7",
   "metadata": {},
   "outputs": [
    {
     "data": {
      "text/plain": [
       "<KerasTensor: shape=(None, 1) dtype=float32 (created by layer 'sequential_5')>"
      ]
     },
     "execution_count": 39,
     "metadata": {},
     "output_type": "execute_result"
    }
   ],
   "source": [
    "result = body(x)\n",
    "result"
   ]
  },
  {
   "cell_type": "code",
   "execution_count": 61,
   "id": "60e8b583-8179-4a46-b600-59e3a2ac21ce",
   "metadata": {},
   "outputs": [],
   "source": [
    "model = tf.keras.Model(inputs, result)\n",
    "adam = tf.keras.optimizers.Adam(learning_rate=0.1)\n",
    "\n",
    "model.compile(optimizer=adam,\n",
    "              loss=tf.keras.losses.BinaryCrossentropy(from_logits=True),\n",
    "              metrics=['accuracy'])"
   ]
  },
  {
   "cell_type": "code",
   "execution_count": 70,
   "id": "956e3162-dca5-4c1d-8f13-8416955ae718",
   "metadata": {},
   "outputs": [
    {
     "name": "stdout",
     "output_type": "stream",
     "text": [
      "Epoch 1/20\n",
      "152/152 [==============================] - 1s 7ms/step - loss: 0.2415 - accuracy: 0.8482\n",
      "Epoch 2/20\n",
      "152/152 [==============================] - 1s 6ms/step - loss: 0.2420 - accuracy: 0.8845\n",
      "Epoch 3/20\n",
      "152/152 [==============================] - 1s 6ms/step - loss: 0.2456 - accuracy: 0.8647\n",
      "Epoch 4/20\n",
      "152/152 [==============================] - 1s 6ms/step - loss: 0.2419 - accuracy: 0.8845\n",
      "Epoch 5/20\n",
      "152/152 [==============================] - 1s 6ms/step - loss: 0.2377 - accuracy: 0.8680\n",
      "Epoch 6/20\n",
      "152/152 [==============================] - 1s 6ms/step - loss: 0.2431 - accuracy: 0.8416\n",
      "Epoch 7/20\n",
      "152/152 [==============================] - 1s 7ms/step - loss: 0.5407 - accuracy: 0.7723\n",
      "Epoch 8/20\n",
      "152/152 [==============================] - 1s 6ms/step - loss: 0.4033 - accuracy: 0.7261\n",
      "Epoch 9/20\n",
      "152/152 [==============================] - 1s 7ms/step - loss: 0.4547 - accuracy: 0.7261\n",
      "Epoch 10/20\n",
      "152/152 [==============================] - 1s 6ms/step - loss: 0.4012 - accuracy: 0.7261\n",
      "Epoch 11/20\n",
      "152/152 [==============================] - 1s 7ms/step - loss: 0.3454 - accuracy: 0.7261\n",
      "Epoch 12/20\n",
      "152/152 [==============================] - 1s 7ms/step - loss: 0.4745 - accuracy: 0.7426\n",
      "Epoch 13/20\n",
      "152/152 [==============================] - 1s 7ms/step - loss: 0.3978 - accuracy: 0.7261\n",
      "Epoch 14/20\n",
      "152/152 [==============================] - 1s 6ms/step - loss: 0.3810 - accuracy: 0.7228\n",
      "Epoch 15/20\n",
      "152/152 [==============================] - 1s 6ms/step - loss: 0.3601 - accuracy: 0.7261\n",
      "Epoch 16/20\n",
      "152/152 [==============================] - 1s 6ms/step - loss: 0.3486 - accuracy: 0.7426\n",
      "Epoch 17/20\n",
      "152/152 [==============================] - 1s 6ms/step - loss: 0.6142 - accuracy: 0.7327\n",
      "Epoch 18/20\n",
      "152/152 [==============================] - 1s 7ms/step - loss: 0.3157 - accuracy: 0.7657\n",
      "Epoch 19/20\n",
      "152/152 [==============================] - 1s 6ms/step - loss: 0.2642 - accuracy: 0.8086\n",
      "Epoch 20/20\n",
      "152/152 [==============================] - 1s 6ms/step - loss: 0.2528 - accuracy: 0.8647\n"
     ]
    }
   ],
   "source": [
    "history = model.fit(dict(df), target, epochs=20, batch_size = BATCH_SIZE)"
   ]
  },
  {
   "cell_type": "code",
   "execution_count": 71,
   "id": "cb31ff94-634d-4aef-8707-ea0a0a928433",
   "metadata": {},
   "outputs": [
    {
     "data": {
      "text/plain": [
       "<bound method Model.evaluate of <keras.engine.functional.Functional object at 0x0000028F1A4DF6A0>>"
      ]
     },
     "execution_count": 71,
     "metadata": {},
     "output_type": "execute_result"
    }
   ],
   "source": []
  },
  {
   "cell_type": "code",
   "execution_count": 58,
   "id": "11286551-0341-4ddb-94e4-a90a8b5d40a8",
   "metadata": {},
   "outputs": [
    {
     "ename": "SyntaxError",
     "evalue": "invalid syntax (3164465344.py, line 1)",
     "output_type": "error",
     "traceback": [
      "\u001b[1;36m  Input \u001b[1;32mIn [58]\u001b[1;36m\u001b[0m\n\u001b[1;33m    learning rate\u001b[0m\n\u001b[1;37m             ^\u001b[0m\n\u001b[1;31mSyntaxError\u001b[0m\u001b[1;31m:\u001b[0m invalid syntax\n"
     ]
    }
   ],
   "source": []
  },
  {
   "cell_type": "code",
   "execution_count": null,
   "id": "dedfd30e-8d98-442d-b0e1-a634a3e7318f",
   "metadata": {},
   "outputs": [],
   "source": []
  }
 ],
 "metadata": {
  "kernelspec": {
   "display_name": "Python 3 (ipykernel)",
   "language": "python",
   "name": "python3"
  },
  "language_info": {
   "codemirror_mode": {
    "name": "ipython",
    "version": 3
   },
   "file_extension": ".py",
   "mimetype": "text/x-python",
   "name": "python",
   "nbconvert_exporter": "python",
   "pygments_lexer": "ipython3",
   "version": "3.9.2"
  }
 },
 "nbformat": 4,
 "nbformat_minor": 5
}
