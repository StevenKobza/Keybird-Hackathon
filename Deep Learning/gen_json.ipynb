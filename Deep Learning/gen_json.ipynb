{
 "cells": [
  {
   "cell_type": "markdown",
   "id": "5ed6eafb",
   "metadata": {},
   "source": [
    "## Future Enhancements / To-do list\n",
    "\n",
    "* Fix DURATION variable from static to dynamic based on specific file length\n",
    "* Increase num_segments variable from 5 to 10+ in order to get samples at about 3 seconds each (needs dynamic duration to calculate)"
   ]
  },
  {
   "cell_type": "code",
   "execution_count": 27,
   "id": "d6849807",
   "metadata": {},
   "outputs": [
    {
     "data": {
      "text/plain": [
       "'/device:GPU:0'"
      ]
     },
     "execution_count": 27,
     "metadata": {},
     "output_type": "execute_result"
    }
   ],
   "source": [
    "import tensorflow as tf\n",
    "tf.test.gpu_device_name()"
   ]
  },
  {
   "cell_type": "code",
   "execution_count": 2,
   "id": "8fd6ad2b",
   "metadata": {},
   "outputs": [
    {
     "name": "stdout",
     "output_type": "stream",
     "text": [
      "\n",
      " dirpath: gen_file,\n",
      " dirnames: [],\n",
      " filenames: ['c L a C k Y    s P a C e B a R.wav']\n",
      "\n",
      " Processing gen_file\n",
      "gen_file\\c L a C k Y    s P a C e B a R.wav, segment:0\n",
      "gen_file\\c L a C k Y    s P a C e B a R.wav, segment:1\n",
      "gen_file\\c L a C k Y    s P a C e B a R.wav, segment:2\n",
      "gen_file\\c L a C k Y    s P a C e B a R.wav, segment:3\n",
      "gen_file\\c L a C k Y    s P a C e B a R.wav, segment:4\n",
      "gen_file\\c L a C k Y    s P a C e B a R.wav, segment:5\n",
      "gen_file\\c L a C k Y    s P a C e B a R.wav, segment:6\n",
      "gen_file\\c L a C k Y    s P a C e B a R.wav, segment:7\n",
      "gen_file\\c L a C k Y    s P a C e B a R.wav, segment:8\n",
      "gen_file\\c L a C k Y    s P a C e B a R.wav, segment:9\n",
      "gen_file\\c L a C k Y    s P a C e B a R.wav, segment:10\n"
     ]
    },
    {
     "name": "stderr",
     "output_type": "stream",
     "text": [
      "C:\\Users\\samys\\anaconda3\\envs\\tensorflow_gpuenv\\lib\\site-packages\\librosa\\util\\decorators.py:88: UserWarning: n_fft=2048 is too small for input signal of length=0\n",
      "  return f(*args, **kwargs)\n"
     ]
    }
   ],
   "source": [
    "import os\n",
    "import librosa\n",
    "import math\n",
    "import json\n",
    "\n",
    "DATASET_PATH = \"gen_file\"\n",
    "JSON_PATH = \"predict_this_5.json\"\n",
    "SAMPLE_RATE = 22050\n",
    "\n",
    "## NEED TO UPDATE TO BE DYNAMIC\n",
    "DURATION = 30 # measured in seconds, but wont work for us in the long term\n",
    "##\n",
    "\n",
    "SAMPLES_PER_TRACK = SAMPLE_RATE * DURATION\n",
    "\n",
    "# identify the specific track duration\n",
    "## frames, sample rate --> duration\n",
    "\n",
    "# split the duration into 3 second segments\n",
    "## send the number of segments into the save_mfcc function\n",
    "## update the SAMPLES_PER_TRACK variable used in save_mfcc\n",
    "\n",
    "def save_mfcc(dataset_path, json_path, n_mfcc=13, n_fft=2048, hop_length=512, num_segments=10):\n",
    "    # build a dictionary to store data\n",
    "    data = {\n",
    "        \"mapping\": [], #\"mapping\": [\"clacky\",\"thocky\"], # 0 = clacky, 1 = thocky\n",
    "        \"labels\": [], # target outputs\n",
    "        \"mfcc\": [] # training inputs\n",
    "    }\n",
    "    \n",
    "    num_samples_per_segment = int(SAMPLES_PER_TRACK / num_segments)\n",
    "    expected_num_mfcc_vectors_per_segment = math.ceil(num_samples_per_segment / hop_length) # 1.2 -> 2\n",
    "    \n",
    "    # loop through all genres\n",
    "    for i, (dirpath, dirnames, filenames) in enumerate(os.walk(dataset_path)):\n",
    "        print('\\n dirpath: {},\\n dirnames: {},\\n filenames: {}'.format(dirpath,dirnames,filenames))\n",
    "        \n",
    "        # ensure that we are not at the root level\n",
    "        if dirpath is dataset_path:\n",
    "            # save the semantic\n",
    "            dirpath_components = dirpath.split(\"/\") # genre/blues ==> [\"genre\", \"blues\"]\n",
    "            semantic_label = dirpath_components[-1]\n",
    "            data[\"mapping\"].append(semantic_label)\n",
    "            print(\"\\n Processing {}\".format(semantic_label))\n",
    "            \n",
    "            # process files for a specific genre\n",
    "            for f in filenames:\n",
    "                \n",
    "                # load audio file\n",
    "                file_path = os.path.join(dirpath, f)\n",
    "                signal, sr = librosa.load(file_path, sr=SAMPLE_RATE)\n",
    "                f_duration = librosa.get_duration(y=signal, sr=sr)\n",
    "                \n",
    "                # num segments is dependent on the duration / 3 second intervals\n",
    "                new_num_segments = int(f_duration / 3)\n",
    "                \n",
    "                # process segments extracting mfcc and storing data\n",
    "                \n",
    "                #for s in range(new_num_segments): -- commenting out the dynamic segment piece\n",
    "                for s in range(num_segments):    \n",
    "                    # re-calculate based on specific file --commented out\n",
    "                    #num_samples_per_segment = int((SAMPLE_RATE * f_duration) / new_num_segments)\n",
    "                    \n",
    "                    # reverting to static for now\n",
    "                    num_samples_per_segment = int((SAMPLE_RATE * DURATION) / num_segments)\n",
    "                    expected_num_mfcc_vectors_per_segment = math.ceil(num_samples_per_segment / hop_length) # 1.2 -> 2\n",
    "                    #\n",
    "                    \n",
    "                    start_sample = num_samples_per_segment * s \n",
    "                    finish_sample = start_sample + num_samples_per_segment\n",
    "                    \n",
    "                    mfcc = librosa.feature.mfcc(y=signal[start_sample:finish_sample],\n",
    "                                                sr=sr,\n",
    "                                                n_fft=n_fft,\n",
    "                                                n_mfcc=n_mfcc,\n",
    "                                                hop_length=hop_length\n",
    "                                               )\n",
    "                    \n",
    "                    mfcc = mfcc.T \n",
    "                    # store mfcc for segment only if it has the expected length\n",
    "                    if len(mfcc) == expected_num_mfcc_vectors_per_segment:\n",
    "                        data[\"mfcc\"].append(mfcc.tolist())\n",
    "                        data[\"labels\"].append(i-1)\n",
    "                        print(\"{}, segment:{}\".format(file_path, s))                  \n",
    "               \n",
    "    with open(json_path, \"w\") as fp:\n",
    "        json.dump(data, fp, indent=4)\n",
    "\n",
    "if __name__ == \"__main__\":\n",
    "    save_mfcc(DATASET_PATH, JSON_PATH, num_segments=60) # num_segments back to being used"
   ]
  },
  {
   "cell_type": "code",
   "execution_count": null,
   "id": "c05cf9d8",
   "metadata": {},
   "outputs": [],
   "source": [
    "# predict sample\n",
    "predict(model, X_to_predict, y_to_predict)"
   ]
  }
 ],
 "metadata": {
  "kernelspec": {
   "display_name": "Python 3 (ipykernel)",
   "language": "python",
   "name": "python3"
  },
  "language_info": {
   "codemirror_mode": {
    "name": "ipython",
    "version": 3
   },
   "file_extension": ".py",
   "mimetype": "text/x-python",
   "name": "python",
   "nbconvert_exporter": "python",
   "pygments_lexer": "ipython3",
   "version": "3.9.12"
  }
 },
 "nbformat": 4,
 "nbformat_minor": 5
}
